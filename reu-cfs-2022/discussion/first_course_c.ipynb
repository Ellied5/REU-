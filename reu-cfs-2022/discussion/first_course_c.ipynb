{
 "cells": [
  {
   "cell_type": "markdown",
   "metadata": {},
   "source": [
    "## Python: Iterators and Mutability\n",
    "\n",
    "_Burt Rosenberg, 7 May 2019_\n",
    "\n",
    "_Burt Rosenberg, 23 May 2022_\n",
    "\n",
    "\n",
    "### Looping, iteration, exceptions and reading the documentation\n",
    "\n",
    "The previous notebook presented a recursive version of the Boom program. Typically, such a program would be written not by recursion but by iteration. The looping/iteration control structure in Python makes heavy use of *iterators*, that is, makes use of objects that are *iterable*. Such objects represent a sequence abstactly, with the ability to ask for the next item in the sequence, and a final mechanism for handling when there are no more items in the sequence.\n",
    "\n",
    "Written with the range iteration object, here is a more tradition Boom,"
   ]
  },
  {
   "cell_type": "code",
   "execution_count": 114,
   "metadata": {},
   "outputs": [
    {
     "name": "stdout",
     "output_type": "stream",
     "text": [
      "10\n",
      "9\n",
      "8\n",
      "7\n",
      "6\n",
      "5\n",
      "4\n",
      "3\n",
      "2\n",
      "1\n",
      "Boom!\n"
     ]
    }
   ],
   "source": [
    "def Boom_Iter(x):\n",
    "    for i in range(x):\n",
    "        print(x-i)\n",
    "    print(\"Boom!\")\n",
    "    \n",
    "Boom_Iter(10)"
   ]
  },
  {
   "cell_type": "markdown",
   "metadata": {},
   "source": [
    "The key to the above program is the interaction between the syntax of the language, \"for X in Y:\" and the object supplied as Y. The object must support iteration as follows:\n",
    "\n",
    "* The object must be able to deliver an iterator, reset to the starting element\n",
    "* That iterator provides elements in the iteration sequence when asked\n",
    "* When exhausted, that iterator interrupts the looping by throwing an exception.\n",
    "\n",
    "The particulars are illustrated in the next code box.\n",
    "\n"
   ]
  },
  {
   "cell_type": "code",
   "execution_count": 151,
   "metadata": {},
   "outputs": [
    {
     "name": "stdout",
     "output_type": "stream",
     "text": [
      "** A range is iterable **\n",
      "0\n",
      "1\n",
      "2\n",
      "3\n",
      "4\n",
      "StopIteration \n",
      "\n",
      "** A list is iterable **\n",
      "1\n",
      "2\n",
      "3\n",
      "4\n",
      "5\n",
      "StopIteration \n",
      "\n",
      "** A string is iterable **\n",
      "a\n",
      "b\n",
      "c\n",
      "d\n",
      "e\n",
      "StopIteration \n",
      "\n",
      "** A tuple is iterable **\n",
      "10\n",
      "20\n",
      "30\n",
      "40\n",
      "50\n",
      "StopIteration \n",
      "\n"
     ]
    }
   ],
   "source": [
    "\n",
    "def call_next(x):\n",
    "    \"\"\"\n",
    "    Implement an infinite loop\n",
    "    \"\"\"\n",
    "    # this is an infinite loop. it is also \n",
    "    # your introduction to the while statement\n",
    "    while True:\n",
    "        print(x.__next__())\n",
    "\n",
    "    \n",
    "print(\"** A range is iterable **\")\n",
    "try:\n",
    "    a = range(5).__iter__()\n",
    "    call_next(a)\n",
    "except Exception as e:\n",
    "    print(e.__class__.__name__,\"\\n\")\n",
    "\n",
    "    \n",
    "print(\"** A list is iterable **\")\n",
    "try:\n",
    "    b = [1,2,3,4,5].__iter__()\n",
    "    call_next(b)\n",
    "except Exception as e:\n",
    "    print(e.__class__.__name__,\"\\n\")\n",
    "\n",
    "\n",
    "print(\"** A string is iterable **\")\n",
    "try:\n",
    "    c = \"abcde\".__iter__()\n",
    "    call_next(c)\n",
    "except Exception as e:\n",
    "    print(e.__class__.__name__,\"\\n\")\n",
    "    \n",
    "\n",
    "print(\"** A tuple is iterable **\")\n",
    "try:\n",
    "    d = (10,20,30,40,50).__iter__()\n",
    "    call_next(d)\n",
    "except Exception as e:\n",
    "    print(e.__class__.__name__,\"\\n\")\n"
   ]
  },
  {
   "cell_type": "markdown",
   "metadata": {},
   "source": [
    "Illustrated is that these three data types are iterable: a list, a string and a tuple; and the range object as created by the range() function is also iterable. The above shows that they work uniformly. Each object responds to the *iter* function. This is the meaning of the pattern x.y(). That is: given object x, which supports the method y, invoke that method, most likely for use of the resulting value.\n",
    "\n",
    "For instance, a = range(3).iter( ) means, call range(3) to produce an object that represents sequence 0, 1, 2; then call on the object the iter function, to return an object capable of generating that sequence; and store that object in variable a.\n",
    "\n",
    "Now in possession of an iterator, we iterate for as long as we can. The call_next function has the line x.next(). This calls the next function on the object x. And having done that it calls it again. And again ... until True becomes False in the while condition.\n",
    "\n",
    "The next() function returns the next element, and that is printed, and also advances an internal cursor in the iterator so that subsequent next calls give subsequent elements.\n",
    "\n",
    "And how does the infinite loop end? Normal code flow would have it regress infinitely. But an exception is thrown that can break the loop, and break back upwards all contining loops, until a suitable try clause is found to catch the exception, handle it, and resume normal code progress.\n",
    "\n",
    "In the case of an iterable, a suitable try clause would be one expecting a StopException, or in the case of this code, any Exception, including the StopException.\n",
    "\n",
    "_Note:_ There are three ways to access the iteration machinery. \n",
    "\n",
    "* First, is to allow the language to do all the work. The \"for\" statement will take care of it all. \n",
    "* We showed above directly accessing the method attributes, whose names are surrounded in double underscores. \n",
    "* Similar names, without the underscores, are provided as language _built-ins_. I believe this discipline predates the more general machinery. I believe these now call the similarly named method, providing a more comprehensive and methodical language.\n",
    "\n",
    "As examples of the third method: next(a) gets rewritten to a.\\_\\_next\\_\\_() and a AttibuteError exception raised if no such method exists; iter(a) gets rewritten to a.\\_\\_iter\\_\\_(); and len(a) gets rewritten to a.\\_\\_len\\_\\_(). Some of this was discussed at <a href=\"https://mail.python.org/pipermail/python-3000/2006-November/004643.html\">python.org</a> in 2006. Be happy you are witnessing the birth of a new language. It's how things are in computer science &mdash; the base material it studies is human thought, and part of that is human opinion and human social processes.\n",
    "\n",
    "\n",
    "__Iterable datetypes, mutable and immutable__\n",
    "\n",
    "Python has as part of the language a wealth of complex datatypes. A large part of the strength of the language, are the native support of these datatypes. While each of the datatypes we shall mention now, have a personality of their own, and deserve individual study, as a collective, they are all iterables. There is a natural way that the datatype is a sequence of elements, and it is often natural to inspect and treat each element in the sequence, one by one.\n",
    "\n",
    "An arithmetic, integer sequence, is created by range(). While not exactly a data type, it is a class, and in Python, all things are objects. The simplest behavoir of range is to provide the traditional 0 through n-1 integer sequence. However it can be called for arbitrary start, stop and step values. What is created by the call isn't so much the sequence, but the possibility of the sequence. When an iterator is generated by the sequence object, it adds to the abstract definition of the sequence the possiblity of delivery of elements in the sequence. And finally those elements are delivered until an exception signals that it must stop.\n",
    "\n",
    "A *list* is the most versatile datatype in computer science. Python gives it an external representation, for the purposes of inputting and outputting lists, of a square brack enclosed, comma-seperated string. Elements can be accessed by index; lists can be appended to, inserting into, elements can be removed.\n"
   ]
  },
  {
   "cell_type": "code",
   "execution_count": 116,
   "metadata": {},
   "outputs": [
    {
     "name": "stdout",
     "output_type": "stream",
     "text": [
      "now mylist is\n",
      "\t [1, 2, 3, 4, 5, 'a', 'b', 'c', 'd', 'e']\n",
      "items at location 0, 1, -1, and -2:\n",
      "\t 1 2 e d\n",
      "remove an item at location 5 \n",
      "\t a\n",
      "now mylist is\n",
      "\t [1, 2, 3, 4, 5, 'b', 'c', 'd', 'e']\n",
      "insert an item at location 5\n",
      "now mylist is\n",
      "\t [1, 2, 3, 4, 5, 'inserted', 'b', 'c', 'd', 'e']\n"
     ]
    }
   ],
   "source": [
    "mylist = [1,2,3,4,5,'a','b','c','d','e']\n",
    "print (\"now mylist is\\n\\t\", mylist)\n",
    "print (\"items at location 0, 1, -1, and -2:\\n\\t\",mylist[0],mylist[1],mylist[-1],mylist[-2])\n",
    "print (\"remove an item at location\", 5, \"\\n\\t\",mylist.pop(5))\n",
    "print (\"now mylist is\\n\\t\",mylist)\n",
    "print (\"insert an item at location\", 5)\n",
    "mylist.insert(5,\"inserted\")\n",
    "print (\"now mylist is\\n\\t\", mylist)"
   ]
  },
  {
   "cell_type": "markdown",
   "metadata": {},
   "source": [
    "A *string* is a sequence of characters. It is perhaps the most familiar datatype, as the string datatype is used for human usable text. It is naturally iterable character by character. A string is an object and has a wealth of actions upon it. Those actions can be invoked using the notation for methods, x.a(), where x is the object, and a is the method.\n",
    "\n",
    "Strings are immutable. That is, once created, they are never changed. Modifications to a string of any sort, for instance, changing one letter to upper case, will create a new and separate string.\n",
    "\n",
    "A *tuple* is an immutable list."
   ]
  },
  {
   "cell_type": "markdown",
   "metadata": {},
   "source": [
    "### Exercises:\n",
    "\n",
    "Reading the documentation is a crucial skill. Let's start it now. Find the documentation for the range object (   https://docs.python.org/3/library/stdtypes.html#ranges  ). Rewrite Boom_Iter so the sequence of values produced by range descends from 10 to 1, rather than ascends from 0 to 9, requiring a bit a math in the print statement."
   ]
  },
  {
   "cell_type": "code",
   "execution_count": 118,
   "metadata": {},
   "outputs": [
    {
     "name": "stdout",
     "output_type": "stream",
     "text": [
      "Boom!\n"
     ]
    },
    {
     "data": {
      "text/plain": [
       "1"
      ]
     },
     "execution_count": 118,
     "metadata": {},
     "output_type": "execute_result"
    }
   ],
   "source": [
    "# fix my broken code\n",
    "\n",
    "def Boom_Iter(x):\n",
    "    for i in range(0,0,1):\n",
    "        print(x)\n",
    "    print(\"Boom!\")\n",
    "    \n",
    "Boom_Iter(10)\n"
   ]
  },
  {
   "cell_type": "code",
   "execution_count": 149,
   "metadata": {},
   "outputs": [
    {
     "name": "stdout",
     "output_type": "stream",
     "text": [
      "broken!\n"
     ]
    }
   ],
   "source": [
    "# fix my broken code\n",
    "\n",
    "# a note about Python text. \"\" and '' are identical in function. Unlike some languages,\n",
    "# Python does not have a character datatype. For people used to, be careful because 'a' is\n",
    "# character sequence that happens to be one character long\n",
    "\n",
    "# The triple quote \"\"\" \"\"\" is used in docstrings; if a triple quoted string is the first statement\n",
    "# of a function, it is collected up for the automated documentation of that function\n",
    "\n",
    "\n",
    "\n",
    "\n",
    "def count_the_vowels(s):\n",
    "    \"\"\"\n",
    "    Given a string s, return the count of vowels in s\n",
    "    \"\"\"\n",
    "    number_of_spaces = 0 \n",
    "    for c in s:\n",
    "        if c==' ':\n",
    "            number_of_spaces = number_of_spaces +1\n",
    "    return number_of_spaces\n",
    "\n",
    "text = \"The world will little note, nor long remember what we say here, but it can never forget what they did here.\"\n",
    "\n",
    "def test_count_the_vowels():\n",
    "    if count_the_vowels(text)==29:\n",
    "        print(\"correct!\")\n",
    "    else:\n",
    "        print(\"broken!\")\n",
    "\n",
    "test_count_the_vowels()"
   ]
  },
  {
   "cell_type": "code",
   "execution_count": 146,
   "metadata": {},
   "outputs": [
    {
     "name": "stdout",
     "output_type": "stream",
     "text": [
      "broken!\n"
     ]
    }
   ],
   "source": [
    "# fix my broken code\n",
    "\n",
    "# this also introduces the append method of a list, comparison of lists,\n",
    "# \"square bracket\" indexing of a list, and the sort method for a list\n",
    "\n",
    "\n",
    "\n",
    "def list_uniq(l_in):\n",
    "    \"\"\"\n",
    "    given a list return a list of the unique values.\n",
    "    do this (perhaps) using sorting (why?)\n",
    "    \"\"\"\n",
    "    l_out = []\n",
    "    l_in.sort() # mutable, the original list is rearranged\n",
    "    y = l_in[0]\n",
    "    l_out.append(y)\n",
    "    \n",
    "    for x in l_in:\n",
    "            l_out.append(x)\n",
    "    return l_out    \n",
    "\n",
    "def test_list_uniq():\n",
    "    l_in = [3,2,6,4,1,5,4,4,1,3,5,6,9]\n",
    "    ans = [1, 2, 3, 4, 5, 6, 9]\n",
    "    if ans == list_uniq(l_in):\n",
    "        print(\"correct!\")\n",
    "    else:\n",
    "        print(\"broken!\")\n",
    "\n",
    "test_list_uniq()"
   ]
  },
  {
   "cell_type": "code",
   "execution_count": null,
   "metadata": {},
   "outputs": [],
   "source": []
  },
  {
   "cell_type": "code",
   "execution_count": null,
   "metadata": {},
   "outputs": [],
   "source": []
  }
 ],
 "metadata": {
  "kernelspec": {
   "display_name": "Python 3",
   "language": "python",
   "name": "python3"
  },
  "language_info": {
   "codemirror_mode": {
    "name": "ipython",
    "version": 3
   },
   "file_extension": ".py",
   "mimetype": "text/x-python",
   "name": "python",
   "nbconvert_exporter": "python",
   "pygments_lexer": "ipython3",
   "version": "3.8.10"
  }
 },
 "nbformat": 4,
 "nbformat_minor": 2
}
