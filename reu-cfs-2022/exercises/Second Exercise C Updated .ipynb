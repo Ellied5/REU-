{
 "cells": [
  {
   "cell_type": "code",
   "execution_count": 16,
   "id": "b11366c1",
   "metadata": {},
   "outputs": [
    {
     "name": "stdout",
     "output_type": "stream",
     "text": [
      "correct!\n"
     ]
    }
   ],
   "source": [
    "#\n",
    "#  some notes:\n",
    "#     a // b is integer divide https://docs.python.org/3/library/stdtypes.html\n",
    "#     what is gcd(0,a) ?  ( it is a )\n",
    "#     what is gcd(b,a)  ? ( it is gcd(b-a,a) )\n",
    "#\n",
    "\n",
    "def gcd(a,b):\n",
    "    if a<0:\n",
    "        a=-a\n",
    "    if b<0:\n",
    "        b=-b\n",
    "    if(b == 0):\n",
    "        return a\n",
    "    else:\n",
    "        return gcd(b, a % b)\n",
    "    \"\"\"\n",
    " \n",
    "    \"\"\"\n",
    "    \n",
    "    # plan: suppose a>b, gcd(a,b) == gcd(a-kb,b) for any k\n",
    "    # but think of a k large enough to make a smaller than b, but not negative.\n",
    "    # (if it turns out you can make a-kb==0, well then what?)\n",
    "    \n",
    "    # and you can recurse then on the two numbers\n",
    "\n",
    "\n",
    "test = [(1,1,1),(3,5,1),(2,4,2),(15,5,5),(21,15,3)]\n",
    "\n",
    "def test_gcd(test):\n",
    "    correct = 0\n",
    "    for t in test:\n",
    "        if gcd(t[0],t[1])==t[2]:\n",
    "            correct += 1\n",
    "    return correct==len(test)\n",
    "\n",
    "if test_gcd(test):\n",
    "    print('correct!')\n",
    "else:\n",
    "    print('fix my broken code')\n",
    "        \n",
    "        "
   ]
  },
  {
   "cell_type": "code",
   "execution_count": 41,
   "id": "b990b4c2",
   "metadata": {},
   "outputs": [
    {
     "name": "stdout",
     "output_type": "stream",
     "text": [
      "correct!\n"
     ]
    }
   ],
   "source": [
    "# fix my broken code\n",
    "\n",
    "# a note about Python text. \"\" and '' are identical in function. Unlike some languages,\n",
    "# Python does not have a character datatype. For people used to, be careful because 'a' is\n",
    "# character sequence that happens to be one character long\n",
    "\n",
    "# The triple quote \"\"\" \"\"\" is used in docstrings; if a triple quoted string is the first statement\n",
    "# of a function, it is collected up for the automated documentation of that function\n",
    "\n",
    "\n",
    "def count_the_vowels(s):\n",
    "    vowels=[\"a\",\"e\",\"i\",\"o\",\"u\"]\n",
    "    count=0; \n",
    "    \n",
    "    # hint: iterate through s\n",
    "    # count +1 using a statement like 'if x in a', where a teaches the program\n",
    "    # what a vowel is\n",
    "    for i in s:\n",
    "        if i in vowels: \n",
    "            count+=1   \n",
    "    return count\n",
    "\n",
    "text = \"The world will little note, nor long remember what we say here, but it can never forget what they did here.\"\n",
    "\n",
    "def test_count_the_vowels():\n",
    "    if count_the_vowels(text)==29:\n",
    "        print(\"correct!\")\n",
    "    else:\n",
    "        print(\"broken!\")\n",
    "\n",
    "test_count_the_vowels()"
   ]
  },
  {
   "cell_type": "code",
   "execution_count": 52,
   "id": "681d071d",
   "metadata": {},
   "outputs": [
    {
     "name": "stdout",
     "output_type": "stream",
     "text": [
      "correct!\n"
     ]
    }
   ],
   "source": [
    "# fix my broken code\n",
    "\n",
    "# this also introduces the append method of a list, comparison of lists,\n",
    "# \"square bracket\" indexing of a list, and the sort method for a list\n",
    "\n",
    "\n",
    "\n",
    "def list_uniq(l_in):\n",
    "    \"\"\"\n",
    "    given a list return a list of the unique values.\n",
    "    do this (perhaps) using sorting (why?)\n",
    "    \"\"\"\n",
    "    l_in.sort();\n",
    "    l_new=[l_in[0]]; \n",
    "    for i in l_in:\n",
    "        if i in l_new:\n",
    "            continue \n",
    "        else: \n",
    "            l_new.append(i)\n",
    "        \n",
    "    ## hint, \"sort\" is a method of an array that sorts in place! \n",
    "    ##    make sure you understand --> in place <--\n",
    "    # then go thorough starting from an empty list (  [] ) using\n",
    "    # append to add an element the __first__ (and only the first) time\n",
    "    # you encounter it (enumerate the sorted list)\n",
    "    \n",
    "    # Q: why did we sort the list? is it necessary? \n",
    "    \n",
    "    # https://docs.python.org/3/library/functions.html#sorted  (builtin)\n",
    "    # https://docs.python.org/3/howto/sorting.html (list method)\n",
    "    \n",
    "    return l_new \n",
    "\n",
    "def test_list_uniq():\n",
    "    l_in = [3,2,6,4,1,5,4,4,1,3,5,6,9]\n",
    "    ans = [1, 2, 3, 4, 5, 6, 9]\n",
    "    if ans == list_uniq(l_in):\n",
    "        print(\"correct!\")\n",
    "    else:\n",
    "        print(\"broken!\")\n",
    "        print(list_uniq(l_in))\n",
    "\n",
    "test_list_uniq()"
   ]
  }
 ],
 "metadata": {
  "kernelspec": {
   "display_name": "Python 3 (ipykernel)",
   "language": "python",
   "name": "python3"
  },
  "language_info": {
   "codemirror_mode": {
    "name": "ipython",
    "version": 3
   },
   "file_extension": ".py",
   "mimetype": "text/x-python",
   "name": "python",
   "nbconvert_exporter": "python",
   "pygments_lexer": "ipython3",
   "version": "3.9.7"
  }
 },
 "nbformat": 4,
 "nbformat_minor": 5
}
