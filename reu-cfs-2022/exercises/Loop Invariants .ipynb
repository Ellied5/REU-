{
 "cells": [
  {
   "cell_type": "code",
   "execution_count": null,
   "id": "11109c8f",
   "metadata": {},
   "outputs": [],
   "source": [
    "import random \n",
    "def is_inorder(a,n):\n",
    "    # return True or False if the first n elements of array a are in ascending order\n",
    "    k=0; \n",
    "    bo=True; \n",
    "    while (k<n):\n",
    "        if a[k]>a[k+1]:\n",
    "            return False; \n",
    "        k+=1\n",
    "        \n",
    "    return True\n",
    "\n",
    "\n",
    "def is_smallest_elements(a,n):\n",
    "    # return True False if the largest number among the first n is no larger than any\n",
    "    # of the remaining elments in a, a[n+1:].\n",
    "    # NOTE: if applied in the presence of is_inorder(a,n), then a[n-1] is the largest of the first n\n",
    "    k=max(a[0:n])\n",
    "    for i in range(len(a)-n):\n",
    "        if a[n+i]>k:\n",
    "            return False \n",
    "        \n",
    "    return True\n",
    "\n",
    "def selection_sort(a):\n",
    "    n = len(a)\n",
    "    # set up LI .. get it started \n",
    "    # LI\n",
    "    #the elements in the range 0..k are sorted and less than the elements in k+1...end \n",
    "    for k in range(n)\n",
    "        #find minimun element in k+1...end and swap a[k] and a[minimum element]\n",
    "        m=k; \n",
    "        for i in range(k+1,n):\n",
    "            if a[i]<a[m]: \n",
    "                m=i\n",
    "        #swap minimum element with a[k]\n",
    "        a[m],a[k]= a[k],a[m]\n",
    "                \n",
    "\n",
    "        # one more number in the first \"n\" elements\n",
    "        # LI is again good\n",
    "    # LI and Termination => array is sorted\n",
    "    return a # this is cheating!\n",
    "\n",
    "a = [i for i in range(89)]\n",
    "for trial in range(10):\n",
    "    random.shuffle(a)\n",
    "    a_orig = a[:]\n",
    "    selection_sort(a)\n",
    "    assert a==sorted(a_orig)\n",
    "    "
   ]
  },
  {
   "cell_type": "code",
   "execution_count": null,
   "id": "b530adbb",
   "metadata": {},
   "outputs": [],
   "source": []
  }
 ],
 "metadata": {
  "kernelspec": {
   "display_name": "Python 3 (ipykernel)",
   "language": "python",
   "name": "python3"
  },
  "language_info": {
   "codemirror_mode": {
    "name": "ipython",
    "version": 3
   },
   "file_extension": ".py",
   "mimetype": "text/x-python",
   "name": "python",
   "nbconvert_exporter": "python",
   "pygments_lexer": "ipython3",
   "version": "3.9.7"
  }
 },
 "nbformat": 4,
 "nbformat_minor": 5
}
