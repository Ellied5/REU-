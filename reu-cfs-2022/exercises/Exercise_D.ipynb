{
 "cells": [
  {
   "cell_type": "markdown",
   "metadata": {},
   "source": [
    "# Example D\n",
    "\n",
    "<br>\n",
    "university of miami\n",
    "<br>\n",
    "REU summer 2022\n",
    "<br>\n",
    "Burton Rosenberg.\n",
    "<br>\n",
    "<br>last update: May 23, 2022\n",
    "\n"
   ]
  },
  {
   "cell_type": "markdown",
   "metadata": {},
   "source": [
    "\n",
    "\n",
    "__Topics__\n",
    "\n",
    "1. The syntax of the class block (indent, with a :)\n",
    "1. Style note: Class names are Capitalized, maybe CamelCase\n",
    "1. The init function in a  class block\n",
    "1. The magic of _self_\n",
    "1. Instancing a class \n",
    "1. Name space of a class (or why cdr.cdr is not read as cdr.cdr)\n",
    "\n",
    "\n",
    "This program introduces classes; we wrap a class around a list, so that the next function gives the next element in the list.\n",
    "\n"
   ]
  },
  {
   "cell_type": "code",
   "execution_count": 5,
   "metadata": {},
   "outputs": [
    {
     "name": "stdout",
     "output_type": "stream",
     "text": [
      "car\n",
      "and\n",
      "cdr\n",
      "\n",
      "cdr\n",
      "or\n",
      "car\n",
      "\n",
      "car\n",
      "and\n",
      "cdr\n"
     ]
    }
   ],
   "source": [
    "class CDR_OOP:\n",
    "    \n",
    "    def __init__(self,thing_to_cdr):\n",
    "        self.thing_to_cdr = thing_to_cdr\n",
    "        \n",
    "    def cdr_aux(self,cdrit):\n",
    "        if len(cdrit)>0:\n",
    "            print(cdrit[0])\n",
    "            self.cdr_aux(cdrit[1:])\n",
    "            \n",
    "    def cdr(self):\n",
    "        self.cdr_aux(self.thing_to_cdr)\n",
    "        \n",
    "cdr = CDR_OOP(['car','and','cdr'])\n",
    "cdr.cdr()\n",
    "print()\n",
    "nay_sayer = CDR_OOP(['cdr','or','car'])\n",
    "nay_sayer.cdr()\n",
    "print()\n",
    "cdr.cdr()"
   ]
  },
  {
   "cell_type": "code",
   "execution_count": 3,
   "metadata": {},
   "outputs": [
    {
     "name": "stdout",
     "output_type": "stream",
     "text": [
      "<class 'type'>\n",
      "<class '__main__.CDR_OOP'>\n"
     ]
    }
   ],
   "source": [
    "print(type(CDR_OOP))\n",
    "print(type(cdr))"
   ]
  },
  {
   "cell_type": "markdown",
   "metadata": {},
   "source": [
    "## Exercise D"
   ]
  },
  {
   "cell_type": "code",
   "execution_count": 10,
   "metadata": {},
   "outputs": [
    {
     "name": "stdout",
     "output_type": "stream",
     "text": [
      "10\n",
      "9\n",
      "8\n",
      "7\n",
      "6\n",
      "5\n",
      "4\n",
      "3\n",
      "2\n",
      "1\n",
      "BOOM!\n"
     ]
    }
   ],
   "source": [
    "class Boom_OOP:\n",
    "    \n",
    "    def __init__(self,n):\n",
    "        self.n=n; \n",
    "\n",
    "    def boom(self):\n",
    "        n=self.n;\n",
    "        k=n\n",
    "        for i in range(n):\n",
    "            print(k)\n",
    "            k=k-1;\n",
    "            \n",
    "        print(\"BOOM!\")\n",
    "            \n",
    "        # does not need to be recursive\n",
    "    \n",
    "\"\"\"\n",
    "should print:\n",
    "10\n",
    "9\n",
    "8\n",
    "7\n",
    "6\n",
    "5\n",
    "4\n",
    "3\n",
    "2\n",
    "1\n",
    "BOOM!\n",
    "\"\"\"\n",
    "    \n",
    "boom = Boom_OOP(10)\n",
    "boom.boom()"
   ]
  },
  {
   "cell_type": "code",
   "execution_count": null,
   "metadata": {},
   "outputs": [],
   "source": []
  }
 ],
 "metadata": {
  "kernelspec": {
   "display_name": "Python 3 (ipykernel)",
   "language": "python",
   "name": "python3"
  },
  "language_info": {
   "codemirror_mode": {
    "name": "ipython",
    "version": 3
   },
   "file_extension": ".py",
   "mimetype": "text/x-python",
   "name": "python",
   "nbconvert_exporter": "python",
   "pygments_lexer": "ipython3",
   "version": "3.9.7"
  }
 },
 "nbformat": 4,
 "nbformat_minor": 4
}
