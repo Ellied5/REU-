{
 "cells": [
  {
   "cell_type": "markdown",
   "metadata": {},
   "source": [
    "# REU-CFS: Day 1, Ex C.\n",
    "\n",
    "_Burton Rosenberg, University of Miami_\n",
    "\n",
    "_Monday, 17 May 2021_\n",
    "\n",
    "_Monday, 23 May 2022_\n",
    "\n",
    "------\n",
    "\n",
    "This is a first program in Python. Examples are given then an exercise.\n",
    "\n",
    "------\n"
   ]
  },
  {
   "cell_type": "markdown",
   "metadata": {},
   "source": [
    "## Example C\n",
    "\n",
    "This exercise introduces recursion.\n",
    "\n",
    "One possible way to use a list is, rather than iterating, to process the first item on the list, then to call the function on itself with the rest of the list. This might result in a slower program, but often recursion is a simple way to solve a program. Hence we pratice it in this example.\n"
   ]
  },
  {
   "cell_type": "code",
   "execution_count": 2,
   "metadata": {},
   "outputs": [
    {
     "name": "stdout",
     "output_type": "stream",
     "text": [
      "car\n",
      "and\n",
      "cdr\n"
     ]
    }
   ],
   "source": [
    "# topics\n",
    "#    recursion\n",
    "#    the len function (basis case of recursion)\n",
    "#    list slicing\n",
    "#    deep and shallow copies\n",
    "#  \n",
    "\n",
    "def classic_car_cdr(the_list):\n",
    "    if len(the_list)>0:           # while there was somethign to do\n",
    "        print(the_list[0])           # do it to the first one\n",
    "        classic_car_cdr(the_list[1:])  # and then recurse on the rest\n",
    "    \n",
    "classic_car_cdr(['car','and','cdr'])"
   ]
  },
  {
   "cell_type": "markdown",
   "metadata": {},
   "source": [
    "## Exercise C"
   ]
  },
  {
   "cell_type": "code",
   "execution_count": 3,
   "metadata": {},
   "outputs": [],
   "source": [
    "def boom_recursive(n):\n",
    "    \"\"\"\n",
    "    use the recursive prototype above to rewrite Boom\n",
    "    \"\"\"\n",
    "    pass\n",
    "    \n",
    "boom_recursive(10)"
   ]
  },
  {
   "cell_type": "code",
   "execution_count": null,
   "metadata": {},
   "outputs": [],
   "source": []
  },
  {
   "cell_type": "code",
   "execution_count": null,
   "metadata": {},
   "outputs": [],
   "source": []
  }
 ],
 "metadata": {
  "kernelspec": {
   "display_name": "Python 3",
   "language": "python",
   "name": "python3"
  },
  "language_info": {
   "codemirror_mode": {
    "name": "ipython",
    "version": 3
   },
   "file_extension": ".py",
   "mimetype": "text/x-python",
   "name": "python",
   "nbconvert_exporter": "python",
   "pygments_lexer": "ipython3",
   "version": "3.8.10"
  }
 },
 "nbformat": 4,
 "nbformat_minor": 4
}
